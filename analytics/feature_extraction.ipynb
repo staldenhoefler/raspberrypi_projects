{
 "cells": [
  {
   "cell_type": "code",
   "execution_count": 1,
   "id": "initial_id",
   "metadata": {
    "collapsed": true,
    "ExecuteTime": {
     "end_time": "2024-08-16T06:06:00.723704100Z",
     "start_time": "2024-08-16T06:05:56.672280500Z"
    }
   },
   "outputs": [
    {
     "name": "stdout",
     "output_type": "stream",
     "text": [
      "Database connection successful.\n"
     ]
    },
    {
     "name": "stderr",
     "output_type": "stream",
     "text": [
      "/tmp/ipykernel_315334/1925794634.py:27: UserWarning: pandas only supports SQLAlchemy connectable (engine/connection) or database string URI or sqlite3 DBAPI2 connection. Other DBAPI2 objects are not tested. Please consider using SQLAlchemy.\n",
      "  df = pd.read_sql(sql_query, conn)\n"
     ]
    },
    {
     "name": "stdout",
     "output_type": "stream",
     "text": [
      "Data fetched successfully.\n",
      "Database connection closed.\n",
      "                                                  url  \\\n",
      "0   https://www.20min.ch/story/japan-wegen-korrupt...   \n",
      "1   https://www.20min.ch/story/lucas-haenni-singt-...   \n",
      "2   https://www.20min.ch/story/faktencheck-bevoelk...   \n",
      "3   https://www.20min.ch/story/mehrere-stichwunden...   \n",
      "4   https://www.20min.ch/story/mallorca-betroffene...   \n",
      "..                                                ...   \n",
      "84  https://www.20min.ch/story/voller-adrenalin-na...   \n",
      "85  https://www.20min.ch/story/beziehungs-aus-verf...   \n",
      "86  https://www.20min.ch/story/abnehmpille-dieser-...   \n",
      "87  https://www.20min.ch/story/bvg-reform-wegen-ah...   \n",
      "88  https://www.20min.ch/story/zuerich-stromausfal...   \n",
      "\n",
      "                                                 html  \n",
      "0   <!DOCTYPE html><html lang=\"de\"><head><meta cha...  \n",
      "1   <!DOCTYPE html><html lang=\"de\"><head><meta cha...  \n",
      "2   <!DOCTYPE html><html lang=\"de\"><head><meta cha...  \n",
      "3   <!DOCTYPE html><html lang=\"de\"><head><meta cha...  \n",
      "4   <!DOCTYPE html><html lang=\"de\"><head><meta cha...  \n",
      "..                                                ...  \n",
      "84  <!DOCTYPE html><html lang=\"de\"><head><meta cha...  \n",
      "85  <!DOCTYPE html><html lang=\"de\"><head><meta cha...  \n",
      "86  <!DOCTYPE html><html lang=\"de\"><head><meta cha...  \n",
      "87  <!DOCTYPE html><html lang=\"de\"><head><meta cha...  \n",
      "88  <!DOCTYPE html><html lang=\"de\"><head><meta cha...  \n",
      "\n",
      "[89 rows x 2 columns]\n"
     ]
    }
   ],
   "source": [
    "import psycopg2\n",
    "import pandas as pd\n",
    "\n",
    "# Database connection parameters\n",
    "db_params = {\n",
    "    \"dbname\": \"zwanzigminuten\",\n",
    "    \"user\": \"postgres\",\n",
    "    \"password\": \"vQVXEEnnhC\",\n",
    "    \"host\": \"100.106.239.63\",\n",
    "    \"port\": \"5433\"  # Default is 5432\n",
    "}\n",
    "\n",
    "# Establish a connection to the database\n",
    "try:\n",
    "    conn = psycopg2.connect(**db_params)\n",
    "    print(\"Database connection successful.\")\n",
    "except Exception as e:\n",
    "    print(f\"Error connecting to database: {e}\")\n",
    "    raise\n",
    "\n",
    "# SQL query to select all entries from the table\n",
    "table_name = \"htmlraw\"\n",
    "sql_query = f\"SELECT * FROM {table_name};\"\n",
    "\n",
    "# Execute the query and load the results into a pandas DataFrame\n",
    "try:\n",
    "    df = pd.read_sql(sql_query, conn)\n",
    "    print(\"Data fetched successfully.\")\n",
    "except Exception as e:\n",
    "    print(f\"Error executing query: {e}\")\n",
    "    raise\n",
    "finally:\n",
    "    conn.close()\n",
    "    print(\"Database connection closed.\")\n",
    "\n",
    "# Display the DataFrame (optional)\n",
    "print(df)"
   ]
  },
  {
   "cell_type": "code",
   "outputs": [
    {
     "name": "stdout",
     "output_type": "stream",
     "text": [
      "Fumio Kishida kündigt wegen Korruption Rückzug an - 20 Minuten\n"
     ]
    }
   ],
   "source": [
    "from bs4 import BeautifulSoup\n",
    "import json\n",
    "soup = BeautifulSoup(df['html'][0], 'html.parser')\n",
    "print(soup.title.string)\n"
   ],
   "metadata": {
    "collapsed": false,
    "ExecuteTime": {
     "end_time": "2024-08-16T06:06:00.974052700Z",
     "start_time": "2024-08-16T06:06:00.720786100Z"
    }
   },
   "id": "d23f086eaf3a9011",
   "execution_count": 2
  },
  {
   "cell_type": "code",
   "outputs": [
    {
     "name": "stdout",
     "output_type": "stream",
     "text": [
      "{'@context': 'http://schema.org', '@type': 'BreadcrumbList', 'itemListElement': [{'@type': 'ListItem', 'position': 1, 'item': {'@id': 'https://www.20min.ch/', 'name': 'Front'}}, {'@type': 'ListItem', 'position': 2, 'item': {'@id': 'https://www.20min.ch/ausland', 'name': 'Ausland'}}, {'@type': 'ListItem', 'position': 3, 'item': {'@id': 'https://www.20min.ch/story/japan-wegen-korruption-premier-kishida-kuendigt-rueckzug-an-103168710', 'name': 'Fumio Kishida kündigt wegen Korruption Rückzug an'}}]}\n",
      "{'@context': 'http://schema.org', '@type': 'NewsArticle', 'mainEntityOfPage': {'@type': 'WebPage', '@id': 'https://www.20min.ch/story/japan-wegen-korruption-premier-kishida-kuendigt-rueckzug-an-103168710'}, 'publisher': {'@type': 'NewsMediaOrganization', 'name': '20 Minuten', 'url': 'https://www.20min.ch', 'email': 'redaktion@20minuten.ch', 'telephone': '+41(0)442486820', 'sameAs': ['https://www.facebook.com/20min', 'https://twitter.com/20min', 'https://www.instagram.com/20min.ch', 'https://de.wikipedia.org/wiki/20_Minuten'], 'ownershipFundingInfo': 'https://www.20min.ch/impressum', 'logo': {'@type': 'ImageObject', 'url': 'https://www.20min.ch/icons/20min_de.png', 'width': 144, 'height': 192}}, 'headline': 'Fumio Kishida kündigt wegen Korruption Rückzug an', 'alternativeHeadline': 'Japan: Wegen Korruption: Premier Kishida kündigt Rückzug an', 'description': 'Der japanische Ministerpräsident will nicht zur Wiederwahl antreten. Seine Partei war zuletzt in mehrere Korruptionsskandale verwickelt.', 'articleBody': 'Der  japanische Ministerpräsident  Fumio Kishida wird sich nicht erneut zur Wahl zum Vorsitzenden seiner Liberaldemokratischen Partei (LDP) stellen. Dies sei der offensichtlichste erste Schritt, um zu zeigen, dass sich die LDP ändern werde, sagte Kishida am Mittwoch vor Reportern. Der Schritt bedeutet das Ende seiner Amtszeit als Ministerpräsident nach rund drei Jahren.  Der Vorsitzende der Regierungspartei  ist traditionell auch Ministerpräsident. Bei der Wahl um den Parteivorsitz sei es notwendig, den Menschen zu zeigen, «dass die LDP sich verändert», sagte Kishida. «Dafür sind transparente und offene Wahlen und eine freie und lebhafte Debatte wichtig.» Der offensichtlichste erste Schritt zu zeigen, dass sich die LDP ändern werde, sei sein Rückzug, fuhr Kishida fort. Korruption in der Partei Der von Korruptionsskandalen bei den Liberaldemokraten gebeutelte Kishida hatte zuletzt nur noch Zustimmungsraten unter 20 Prozent. Er werde den neuen Parteichef oder die neue Parteichefin unterstützen, kündigte Kishida an. Die Verluste bei den Kommunalwahlen Anfang des Jahres haben Kishidas Einfluss geschmälert. Einige Abgeordnete sprachen sich für ein neues Gesicht vor den nächsten Parlamentswahlen aus. Der jüngste Korruptionsskandal veranlasste Kishida dazu, eine Reihe von Kabinettsministern zu entlassen und Parteiposten neu zu besetzen. Die Affäre drehte sich um Gelder, die durch den Verkauf von Eintrittskarten für Parteiveranstaltungen an Unternehmen, Organisationen und Einzelpersonen gesammelt wurden. Dutzende LDP-Abgeordnete, von denen die meisten einer Gruppierung unter Führung des im Sommer 2022 ermordeten Ex-Ministerpräsidenten Shinzo Abe angehörten, wurden beschuldigt, die Gelder systematisch nicht gemeldet und damit gegen das sogenannte Gesetz zur Kontrolle politischer Finanzmittel verstossen zu haben. Zehn Menschen – Abgeordnete und ihre Mitarbeiter – wurden im Januar angeklagt.', 'image': [{'@type': 'ImageObject', 'url': 'https://image.20min.ch/2024/08/14/af5c7fff-83d4-4432-a2a1-cc1ba58295e2.avif?auto=format%2Ccompress%2Cenhance&fit=crop&w=1200&h=1200&rect=0%2C294%2C1067%2C600&fp-x=0.40674789128397376&fp-y=0.37125&crop=focalpoint&s=93606d2088d4da0b5865417044eb2dca', 'width': 1200, 'height': 1200}, {'@type': 'ImageObject', 'url': 'https://image.20min.ch/2024/08/14/af5c7fff-83d4-4432-a2a1-cc1ba58295e2.avif?auto=format%2Ccompress%2Cenhance&fit=crop&w=1200&h=900&rect=0%2C294%2C1067%2C600&fp-x=0.40674789128397376&fp-y=0.37125&crop=focalpoint&s=4b46b59d3e8c443314e5014f641889c7', 'width': 1200, 'height': 900}, {'@type': 'ImageObject', 'url': 'https://image.20min.ch/2024/08/14/af5c7fff-83d4-4432-a2a1-cc1ba58295e2.avif?auto=format%2Ccompress%2Cenhance&fit=crop&w=1200&h=675&rect=0%2C294%2C1067%2C600&fp-x=0.40674789128397376&fp-y=0.37125&crop=focalpoint&s=4d33135179d23065713076bab5b3a4d5', 'width': 1200, 'height': 675}], 'datePublished': '2024-08-14T09:59:37+02:00', 'dateModified': '2024-08-14T09:59:37+02:00', 'author': [{'@type': 'Person', 'name': 'AFP/sim'}], 'video': [], 'keywords': '', 'hasPart': [{'@type': 'Collection', 'image': [{'@type': 'ImageObject', 'ContentUrl': 'https://image.20min.ch/2024/08/14/b98aabed-2d90-417e-92eb-033df8ccc5fa.jpeg?auto=format%2Ccompress%2Cenhance&fit=max&w=1200&h=1200&rect=0%2C0%2C3999%2C2666&s=04b431e5bccafaccff1961d01fb8a09d', 'caption': 'Japans Permierminister Fumio Kishida kündigt an, nicht zur Wiederwahl anzutreten.', 'creditText': 'AFP'}, {'@type': 'ImageObject', 'ContentUrl': 'https://image.20min.ch/2024/08/14/4b94d905-d150-414e-bcf3-593253c517b7.jpeg?auto=format%2Ccompress%2Cenhance&fit=max&w=1200&h=1200&rect=0%2C0%2C2893%2C4000&s=5f3af3fc094e28ed095ff8e7c62fb524', 'caption': 'Mitglieder seiner Partei fürchten, dass sie in den nächsten Wahlen unter seiner Führung nicht gewinnen können. Seine Partei regierte Japan seit 1945 fast durchgehend.', 'creditText': 'AFP'}, {'@type': 'ImageObject', 'ContentUrl': 'https://image.20min.ch/2024/08/14/20b455e4-c101-4af1-a7d2-aab88f1b6689.jpeg?auto=format%2Ccompress%2Cenhance&fit=max&w=1200&h=1200&rect=0%2C0%2C2333%2C3500&s=0db98b32286a6f3167be33dda17d4943', 'caption': 'Zuletzt wurde sie jedoch von mehreren Korruptionsskandalen zerrüttet. Kishida will mit seinem Rücktritt zeigen, dass sich die Partei geändert hat.', 'creditText': 'AFP'}]}], 'articleSection': 'Ausland'}\n",
      "Date Published: 2024-08-14T09:59:37+02:00\n",
      "Author Name: AFP/sim\n",
      "Article Section: Ausland\n"
     ]
    }
   ],
   "source": [
    "json_ld_scripts = soup.find_all('script', type='application/ld+json')\n",
    "\n",
    "# Initialize variables to store the extracted data\n",
    "date_published = None\n",
    "author_name = None\n",
    "article_section = None\n",
    "\n",
    "# Iterate over all found scripts\n",
    "for script in json_ld_scripts:\n",
    "    try:\n",
    "        # Parse the JSON content\n",
    "        json_content = json.loads(script.string)\n",
    "        print(json_content)\n",
    "        # Check if it's a NewsArticle type\n",
    "        if json_content.get('@type') == 'NewsArticle':\n",
    "            # Extract datePublished if available\n",
    "            date_published = json_content.get('datePublished')\n",
    "            \n",
    "            # Extract author name if available\n",
    "            author = json_content.get('author', [])\n",
    "            \n",
    "            article_section = json_content.get('articleSection')\n",
    "            if author:\n",
    "                author_name = author[0].get('name')\n",
    "            break  # Exit loop after finding the desired data\n",
    "    except json.JSONDecodeError:\n",
    "        # If the content is not valid JSON, continue with the next script\n",
    "        continue\n",
    "\n",
    "# Print the results\n",
    "print(f\"Date Published: {date_published}\")\n",
    "print(f\"Author Name: {author_name}\")\n",
    "print(f\"Article Section: {article_section}\")"
   ],
   "metadata": {
    "collapsed": false,
    "ExecuteTime": {
     "end_time": "2024-08-15T16:31:35.841678800Z",
     "start_time": "2024-08-15T16:31:35.788103500Z"
    }
   },
   "id": "c22c34e0adf354dc",
   "execution_count": 23
  },
  {
   "cell_type": "code",
   "outputs": [
    {
     "name": "stdout",
     "output_type": "stream",
     "text": [
      "5\n"
     ]
    }
   ],
   "source": [
    "kommentare = soup.find('div', attrs={'id': 'commentSection'})\n",
    "kommentare = kommentare.find('div', attrs={'class': 'sc-5494f02e-0 gWnvCT'})\n",
    "kommentare = kommentare.get_text()\n",
    "n_kommentare = kommentare.split()[0]\n",
    "print(n_kommentare)"
   ],
   "metadata": {
    "collapsed": false,
    "ExecuteTime": {
     "end_time": "2024-08-15T16:07:44.438830700Z",
     "start_time": "2024-08-15T16:07:44.437830900Z"
    }
   },
   "id": "599efb682a8be1a5",
   "execution_count": 22
  },
  {
   "cell_type": "code",
   "outputs": [
    {
     "name": "stdout",
     "output_type": "stream",
     "text": [
      "Fumio Kishida kündigt wegen Korruption Rückzug an - 20 Minuten; Kommentare: 5; Date Published: 2024-08-14T09:59:37+02:00; Author Name: AFP/sim; Article Section: Ausland \n",
      "\n",
      "Luca Hänni singt über Ex, Christina ist nicht eifersüchtig - 20 Minuten; Kommentare: 0; Date Published: 2024-08-15T17:11:57+02:00; Author Name: Gina Sergi; Article Section: People \n",
      "\n",
      "Kamala Harris: Versprecher in Klimarede führt zu Falschbehauptung - 20 Minuten; Kommentare: 48; Date Published: 2024-08-07T05:04:54+02:00; Author Name: Fee Anabelle Riebeling; Article Section: Faktenchecks \n",
      "Messer-Attacke auf Papa von Lamine Yamal: Jetzt gibt es Updates - 20 Minuten; Kommentare: None; Date Published: 2024-08-15T15:37:54+02:00; Author Name: Nils Hänggi; Article Section: Fussball \n",
      "\n",
      "Betroffene berichten: «Wir sitzen seit 6 Stunden im Flugzeug fest» - 20 Minuten; Kommentare: None; Date Published: 2024-08-15T15:47:18+02:00; Author Name: Benedikt Hollenstein; Article Section: Ausland \n",
      "\n",
      "«Sie haben nicht das Recht zu sagen, ich sei transgender» - 20 Minuten; Kommentare: None; Date Published: 2024-08-15T14:09:50+02:00; Author Name: Adrian Hunziker; Article Section: Olympia \n",
      "Abstimmung: BVG-Reform droht Debakel – enges Rennen um Biodiversität - 20 Minuten; Kommentare: 271; Date Published: 2024-08-14T06:54:57+02:00; Author Name: Christina Pirskanen; Article Section: Abstimmungen \n",
      "\n",
      "Nord-Stream-Sprengung: Selenski schien davon gewusst zu haben - 20 Minuten; Kommentare: 263; Date Published: 2024-08-15T14:09:05+02:00; Author Name: Simon Misteli; Article Section: Ukraine \n",
      "\n",
      "Blaualgen: Tote Hunde in Schaffhausen - 20 Minuten; Kommentare: 102; Date Published: 2024-08-15T11:33:15+02:00; Author Name: Florian Osterwalder; Article Section: Region Zürich \n",
      "\n",
      "BVG-Reform: Ja-Lager kämpft mit 3,5 Millionen Franken - 20 Minuten; Kommentare: 294; Date Published: 2024-08-13T12:05:13+02:00; Author Name: Kaspar Schwarzenbach; Article Section: Schweiz \n",
      "Tim Walz: Wahrheit hinter dem Mugshot von 1995 - 20 Minuten; Kommentare: 28; Date Published: 2024-08-09T10:05:23+02:00; Author Name: Fee Anabelle Riebeling; Article Section: Faktenchecks \n",
      "\n",
      "Taylor Swift Wien: Täter plante Attentat im Elternhaus - 20 Minuten; Kommentare: None; Date Published: 2024-08-08T14:33:23+02:00; Author Name: Leonie Projer; Article Section: Ausland \n",
      "\n",
      "Schweizer Gaza-Helferin bedroht jüdische Familie - 20 Minuten; Kommentare: None; Date Published: 2024-08-09T08:09:04+02:00; Author Name: Daniel Graf; Article Section: Schweiz \n",
      "Zürich: Warme Temperaturen könnten Wasserqualität beeinflussen - 20 Minuten; Kommentare: 107; Date Published: 2024-08-15T11:28:20+02:00; Author Name: Florian Osterwalder; Article Section: Region Zürich \n",
      "\n",
      "«Das ist ein echter Brocken»: Temu gräbt dem Handel Milliarden ab - 20 Minuten; Kommentare: 801; Date Published: 2024-08-12T04:50:49+02:00; Author Name: Fabian Pöschl; Article Section: Wirtschaft \n",
      "\n",
      "Brian in Auslieferungshaft: «Wollte sich wohl ins Ausland absetzen» - 20 Minuten; Kommentare: None; Date Published: 2024-08-11T19:51:27+02:00; Author Name: Daniel Graf; Article Section: Schweiz \n",
      "«Für mich war klar, dass ich mit 23 nicht CEO sein will» - 20 Minuten; Kommentare: 236; Date Published: 2024-08-09T11:22:24+02:00; Author Name: Silvan Haenni; Article Section: Wirtschaft \n",
      "\n",
      "Häftling flieht aus Gefängnis in Orbe - 20 Minuten; Kommentare: None; Date Published: 2024-08-15T15:01:56+02:00; Author Name: 20minutes/bho; Article Section: Bern \n",
      "\n",
      "Alle Infos zur grössten Techno-Party der Welt - 20 Minuten; Kommentare: 126; Date Published: 2024-08-09T05:00:51+02:00; Author Name: Hermann Eichhorn; Article Section: Region Zürich \n",
      "\n",
      "Tesla-Rückruf: Motorhaube kann sich bei Fahrt vollständig öffnen - 20 Minuten; Kommentare: 63; Date Published: 2024-08-15T16:28:55+02:00; Author Name: Fabian Pöschl; Article Section: Wirtschaft \n",
      "Verkauf geplatzt: Besitzer lässt Geister-Raststätte definitiv verfallen - 20 Minuten; Kommentare: None; Date Published: 2024-08-15T14:33:43+02:00; Author Name: Benedikt Hollenstein; Article Section: Ostschweiz \n",
      "\n",
      "Strassentiergesetz spaltet Türkei: Videos von Tötungen im Netz  - 20 Minuten; Kommentare: 85; Date Published: 2024-08-15T12:40:27+02:00; Author Name: Letizia Vecchio; Article Section: Ausland \n",
      "\n",
      "Deutschland: Gericht hebt «Compact»-Verbot vorläufig auf - 20 Minuten; Kommentare: 65; Date Published: 2024-08-14T14:28:05+02:00; Author Name: DPA/bho; Article Section: Ausland \n",
      "So will Rösti ein Ja zur Biodiversitätsinitiative verhindern - 20 Minuten; Kommentare: 422; Date Published: None; Author Name: None; Article Section: None \n",
      "\n",
      "Bevorzugt Google Kamala Harris bei Suche nach Donald Trump? - 20 Minuten; Kommentare: 151; Date Published: 2024-07-31T19:18:14+02:00; Author Name: Fee Anabelle Riebeling; Article Section: Faktenchecks \n",
      "\n",
      "Trump sprach mit Musk: Netz rätselt über Lispeln des Ex-Präsidenten - 20 Minuten; Kommentare: 84; Date Published: 2024-08-13T11:11:14+02:00; Author Name: Ann Guenter; Article Section: US-Wahlen \n",
      "\n",
      "US-Präsidentschaftswahlen: TV-Duell zwischen J.D. Vance und Tim Walz  - 20 Minuten; Kommentare: 0; Date Published: 2024-08-15T17:20:08+02:00; Author Name: Letizia Vecchio; Article Section: US-Wahlen \n",
      "Heissluftballon über Hausdächern: «Dachte, da stimmt was nicht» - 20 Minuten; Kommentare: 23; Date Published: 2024-08-15T12:39:30+02:00; Author Name: Anika Yago; Article Section: Zentralschweiz \n",
      "\n",
      "Nach Schuldspruch: Trump-Anwälte fordern Aufhebung der «Gag Order»  - 20 Minuten; Kommentare: None; Date Published: None; Author Name: None; Article Section: None \n",
      "\n",
      "Mpox in Afrika: Sprunghafter Anstieg und viele Unklarheiten - 20 Minuten; Kommentare: 2; Date Published: 2024-08-15T18:27:19+02:00; Author Name: Fee Anabelle Riebeling; Article Section: Wissen \n",
      "Erster Fall von gefährlicher Mpox-Variante ausserhalb Afrikas - 20 Minuten; Kommentare: 9; Date Published: 2024-08-15T18:24:09+02:00; Author Name: Benedikt Hollenstein; Article Section: Ausland \n",
      "\n",
      "Ksenia Karelina: US-Amerikanerin wegen 50 Dollar verurteilt - 20 Minuten; Kommentare: 0; Date Published: 2024-08-15T20:35:47+02:00; Author Name: DPA/bho; Article Section: Ausland \n",
      "\n",
      "Holy Bag von Courrèges: Diese Tasche erobert die Modewelt - 20 Minuten; Kommentare: None; Date Published: 2024-08-15T20:44:52+02:00; Author Name: Celina Euchner; Article Section: Fashion \n",
      "\n",
      "Smile Swiss Influencer Award: Das Voting beginnt - 20 Minuten; Kommentare: 0; Date Published: 2024-08-15T20:50:41+02:00; Author Name: Leonie Projer; Article Section: People \n",
      "Spanien: Unwetter suchen Ferieninsel Mallorca heim - 20 Minuten; Kommentare: 0; Date Published: 2024-08-15T21:39:39+02:00; Author Name: Letizia Vecchio; Article Section: Ausland \n",
      "\n",
      "USA: Zwei Kinder in Windeln landen nach Unfall auf Autobahn - 20 Minuten; Kommentare: None; Date Published: 2024-08-15T13:20:53+02:00; Author Name: Jonas Bucher; Article Section: Ausland \n",
      "\n",
      "Irrer VAR-Wahnsinn: St. Gallen kommt nach Rassismus-Eklat weiter - 20 Minuten; Kommentare: 0; Date Published: 2024-08-15T22:49:33+02:00; Author Name: Nils Hänggi; Article Section: Fussball \n",
      "Trump verteidigt Harris-Attacken: Ich habe ein Recht darauf - 20 Minuten; Kommentare: None; Date Published: None; Author Name: None; Article Section: None \n",
      "\n",
      "Nach Anschlag in Wien: Taylor Swift ist zurück auf der Bühne - 20 Minuten; Kommentare: 0; Date Published: 2024-08-16T02:34:39+02:00; Author Name: DPA/wy; Article Section: People \n",
      "\n",
      "Wetter: Gewitterzelle zerstört Campingplatz in St. Margrethen - 20 Minuten; Kommentare: None; Date Published: None; Author Name: None; Article Section: None \n",
      "Eli Simic: «Warum lasst ihr eure Kinder nackt in die Badi?» - 20 Minuten; Kommentare: None; Date Published: 2024-08-16T04:33:01+02:00; Author Name: Dario Aeberli; Article Section: People \n",
      "\n",
      "Uber-Kundin erlebt Horrorfahrt – Fahrer streitet alles ab - 20 Minuten; Kommentare: 0; Date Published: 2024-08-16T04:33:39+02:00; Author Name: Cédric Bähler; Article Section: Zentralschweiz \n",
      "\n",
      "Berichte: Haftbefehl nach Nord-Stream-Anschlägen erwirkt - 20 Minuten; Kommentare: None; Date Published: 2024-08-14T07:35:09+02:00; Author Name: DPA/job; Article Section: Ukraine \n",
      "\n",
      "DAZN-Instagram-Account offenbar von Schweizer gehackt - 20 Minuten; Kommentare: 2; Date Published: 2024-08-15T16:07:54+02:00; Author Name: Simon Misteli; Article Section: Ausland \n",
      "Donald Trump: «Simpsons»-Vorhersage über Tod 2024 ist Fake - 20 Minuten; Kommentare: 3; Date Published: 2024-07-30T04:54:28+02:00; Author Name: Fee Anabelle Riebeling; Article Section: Faktenchecks \n",
      "\n",
      "Trump-Attentat: Facebook blockierte Bild fälschlicherweise  - 20 Minuten; Kommentare: 21; Date Published: 2024-08-02T16:53:38+02:00; Author Name: Fee Anabelle Riebeling; Article Section: Faktenchecks \n",
      "\n",
      "UBS vermeldet Reingewinn von 1,1 Milliarden Dollar im zweiten Quartal - 20 Minuten; Kommentare: 100; Date Published: 2024-08-14T06:46:43+02:00; Author Name: Simon Misteli; Article Section: Wirtschaft \n",
      "\n",
      "Weltbild schliesst in Deutschland, Schweizer Zukunft ungewiss - 20 Minuten; Kommentare: 147; Date Published: 2024-08-15T12:13:30+02:00; Author Name: Fabian Pöschl; Article Section: Wirtschaft \n",
      "Harris-Rally in Detroit: Wie eine grosse Party - 20 Minuten; Kommentare: 132; Date Published: 2024-08-10T04:48:55+02:00; Author Name: Carolin Teufelberger; Article Section: US-Wahlen \n",
      "\n",
      "Mallorca: Überschwemmungen bringen Flugverkehr zum Erliegen - 20 Minuten; Kommentare: None; Date Published: None; Author Name: None; Article Section: None \n",
      "\n",
      "Die falschen Schulkumpels können dein ganzes Leben ruinieren - 20 Minuten; Kommentare: 161; Date Published: 2024-08-14T04:32:15+02:00; Author Name: Daniel Graf; Article Section: Schweiz \n",
      "AKW-Neubauverbot: Bundesrat diskutiert Antrag von Albert Rösti - 20 Minuten; Kommentare: 386; Date Published: 2024-08-15T09:55:10+02:00; Author Name: Reto Bollmann; Article Section: Schweiz \n",
      "\n",
      "Das grosse Geschäft mit den Schultheks zum Schulstart - 20 Minuten; Kommentare: 268; Date Published: 2024-08-15T12:09:08+02:00; Author Name: Jan Janssen; Article Section: Wirtschaft \n",
      "\n",
      "«Wut und Hass sind auf dem Vormarsch – schützt euch und eure Werte» - 20 Minuten; Kommentare: None; Date Published: 2024-08-09T08:08:38+02:00; Author Name: Daniel Graf; Article Section: Schweiz \n",
      "\n",
      "Kopfschuss in Brasilien: Schweizer Professor erzählt von Vorfall - 20 Minuten; Kommentare: None; Date Published: 2024-08-15T11:31:30+02:00; Author Name: Simon Misteli; Article Section: Ausland \n",
      "WHO ruft wegen Mpox weltweit die höchste Alarmstufe aus - 20 Minuten; Kommentare: 301; Date Published: 2024-08-14T19:37:59+02:00; Author Name: Benedikt Hollenstein; Article Section: Ausland \n",
      "\n",
      "Biodiversitätsinitiative: Darum spaltet die Abstimmung die Bauern - 20 Minuten; Kommentare: 83; Date Published: 2024-08-13T05:08:57+02:00; Author Name: Christina Pirskanen; Article Section: Abstimmungen \n",
      "\n",
      "Fake News zu Thomas Jolly: Blitzeinschlag-Behauptung ist falsch - 20 Minuten; Kommentare: 3; Date Published: 2024-08-13T10:45:33+02:00; Author Name: Fee Anabelle Riebeling; Article Section: Faktenchecks \n",
      "Ergonomisch und Sichtbar: Die besten Tipps für den Schulthek-Kauf - 20 Minuten; Kommentare: 67; Date Published: 2024-08-15T12:09:39+02:00; Author Name: Jan Janssen; Article Section: Wirtschaft \n",
      "\n",
      "50-Dollar-Spende: 12 Jahre Haft für US-Bürgerin in Russland - 20 Minuten; Kommentare: None; Date Published: None; Author Name: None; Article Section: None \n",
      "SBB rüstet Schüttelzüge um — das sagt die Community dazu - 20 Minuten; Kommentare: 75; Date Published: 2024-08-15T14:15:47+02:00; Author Name: Anja Zingg; Article Section: Community \n",
      "\n",
      "Tom Cruise unfreiwillig geküsst – Fan sorgt online für Aufruhr - 20 Minuten; Kommentare: None; Date Published: 2024-08-15T16:09:56+02:00; Author Name: Robin Bruni; Article Section: People \n",
      "\n",
      "Kaiserwetter rettet Tourismus den Sommer – doch bald fehlen die Amis - 20 Minuten; Kommentare: 58; Date Published: 2024-08-15T14:01:44+02:00; Author Name: Silvan Haenni; Article Section: Wirtschaft \n",
      "ESC-Skandalrapper Joost auf der Bühne: Isst er wieder eine Zwiebel? - 20 Minuten; Kommentare: 6; Date Published: None; Author Name: None; Article Section: None \n",
      "\n",
      "«Shut up and shoot»: So ticken Ballonfest-Besucher in Ohio - 20 Minuten; Kommentare: 34; Date Published: None; Author Name: None; Article Section: None \n",
      "\n",
      "Kursk: Für 1000 Quadratkilometer kommt starke Vergeltung Putins  - 20 Minuten; Kommentare: 197; Date Published: 2024-08-13T12:30:38+02:00; Author Name: Simon Misteli; Article Section: Ukraine \n",
      "«Der Mann wollte offensichtlich Juden angreifen» - 20 Minuten; Kommentare: None; Date Published: 2024-08-12T04:54:46+02:00; Author Name: Gaudenz Valentin Looser; Article Section: Region Zürich \n",
      "\n",
      "Abstimmung: Darum gehts bei der BVG-Reform - 20 Minuten; Kommentare: 187; Date Published: 2024-08-13T05:07:58+02:00; Author Name: Christina Pirskanen; Article Section: Abstimmungen \n",
      "\n",
      "«Friends»-Star Matthew Perry: Sein Tod war möglicherweise kein Unfall - 20 Minuten; Kommentare: 1; Date Published: 2024-08-15T17:39:20+02:00; Author Name: Letizia Vecchio; Article Section: People \n",
      "\n",
      "Passanten finden tote Person in der Aare - 20 Minuten; Kommentare: None; Date Published: 2024-08-15T17:36:55+02:00; Author Name: Benedikt Hollenstein; Article Section: Bern \n",
      "Leibliche Mutter von Simone Biles bittet um Vergebung - 20 Minuten; Kommentare: 2; Date Published: 2024-08-15T18:00:55+02:00; Author Name: Sebastian Rieder; Article Section: Sport \n",
      "\n",
      "Neue Mpox-Variante: Sind meine Ferien in Gefahr? - 20 Minuten; Kommentare: 1; Date Published: 2024-08-15T18:27:43+02:00; Author Name: Christina Pirskanen; Article Section: Schweiz \n",
      "\n",
      "Meilen ZH: Nach Prügelattacke muss Täter überraschend ins Gefängnis. - 20 Minuten; Kommentare: None; Date Published: 2024-08-15T19:13:52+02:00; Author Name: Letizia Vecchio; Article Section: Region Zürich \n",
      "\n",
      "Marcos Buser: «Hinterlassen enorme toxische Altlasten» - 20 Minuten; Kommentare: 0; Date Published: 2024-08-15T20:34:07+02:00; Author Name: Daniel Graf; Article Section: Schweiz \n",
      "Kanye West wegen unlizenzierter Paparazzi Bilder verklagt - 20 Minuten; Kommentare: None; Date Published: 2024-08-15T20:43:42+02:00; Author Name: Robin Bruni; Article Section: People \n",
      "\n",
      "Zivilschutzanlage wird zur Notunterkunft für Ukrainer - 20 Minuten; Kommentare: None; Date Published: 2024-08-15T21:31:15+02:00; Author Name: Sarah Kündig ; Article Section: Bern \n",
      "\n",
      "Knie aufspritzen als Anti-Aging-Massnahme: Kosten  und Risiken - 20 Minuten; Kommentare: None; Date Published: 2024-08-15T21:36:24+02:00; Author Name: Malin Mueller; Article Section: Beauty \n",
      "\n",
      "FC St. Gallen: Lawrence Ati Zigi wird übel rassistisch beleidigt - 20 Minuten; Kommentare: None; Date Published: 2024-08-15T21:52:29+02:00; Author Name: Nils Hänggi; Article Section: Fussball \n",
      "Federer hat sein Grundstück in Herrliberg (endlich) verkauft - 20 Minuten; Kommentare: 0; Date Published: 2024-08-16T00:49:12+02:00; Author Name: Daniela Wyler; Article Section: Schweiz \n",
      "\n",
      "«Friends»-Star Matthew Perry: Sein Tod war möglicherweise kein Unfall - 20 Minuten; Kommentare: 8; Date Published: 2024-08-15T17:39:20+02:00; Author Name: Letizia Vecchio; Article Section: People \n",
      "\n",
      "Am Samstag rasen die verrücktesten Velofahrer wieder durch Zürich - 20 Minuten; Kommentare: 0; Date Published: 2024-08-16T04:38:40+02:00; Author Name: Daniel Krähenbühl; Article Section: Region Zürich \n",
      "\n",
      "Rassismus-Attacke auf Lawrence Ati Zigi: FCSG-Trainer emotional - 20 Minuten; Kommentare: None; Date Published: 2024-08-16T04:32:15+02:00; Author Name: Nils Hänggi; Article Section: Fussball \n",
      "Polen-Coach will nach FCSG-Spiel Protest einlegen - 20 Minuten; Kommentare: None; Date Published: 2024-08-16T04:32:39+02:00; Author Name: Nils Hänggi; Article Section: Fussball \n",
      "\n",
      "Lebensgefahr wegen Blaualgen: «Lasse Noto nicht in dieses Wasser» - 20 Minuten; Kommentare: 0; Date Published: 2024-08-16T04:31:49+02:00; Author Name: Anja Zobrist; Article Section: Schweiz \n",
      "\n",
      "Nach Kollsion mit E-Trotti: Mann will trotz Milz-Riss zu Termin - 20 Minuten; Kommentare: 0; Date Published: 2024-08-16T04:34:47+02:00; Author Name: Simon Ulrich; Article Section: Bern \n",
      "Liebe: So lange halten die meisten Beziehungen - 20 Minuten; Kommentare: None; Date Published: 2024-08-16T04:35:34+02:00; Author Name: Carolina Lermann; Article Section: Body & Soul \n",
      "\n",
      "Dieser Fehler kostet Roche Milliarden - 20 Minuten; Kommentare: 0; Date Published: 2024-08-16T05:25:02+02:00; Author Name: Daniela Wyler; Article Section: Wirtschaft \n",
      "\n",
      "Wegen AHV-Debakel? SRG-Umfrage zeigt anderes Ergebnis - 20 Minuten; Kommentare: 0; Date Published: 2024-08-16T06:16:56+02:00; Author Name: Benedikt Hollenstein; Article Section: Schweiz \n",
      "\n",
      "Stromausfall in Albisrieden und Altstetten - 20 Minuten; Kommentare: 1; Date Published: 2024-08-16T06:48:47+02:00; Author Name: Samira Kunz; Article Section: Region Zürich \n"
     ]
    }
   ],
   "source": [
    "df_features = pd.DataFrame(columns=['title', 'n_kommentare', 'date_published', 'author_name', 'article_section'])\n",
    "\n",
    "for row in df.iterrows():\n",
    "    soup = BeautifulSoup(row[1]['html'], 'html.parser')\n",
    "    title = soup.title.string\n",
    "    \n",
    "    json_ld_scripts = soup.find_all('script', type='application/ld+json')\n",
    "\n",
    "    # Initialize variables to store the extracted data\n",
    "    date_published = None\n",
    "    author_name = None\n",
    "    article_section = None\n",
    "    \n",
    "    # Iterate over all found scripts\n",
    "    for script in json_ld_scripts:\n",
    "        try:\n",
    "            # Parse the JSON content\n",
    "            json_content = json.loads(script.string)\n",
    "            # Check if it's a NewsArticle type\n",
    "            if json_content.get('@type') == 'NewsArticle':\n",
    "                # Extract datePublished if available\n",
    "                date_published = json_content.get('datePublished')\n",
    "                \n",
    "                # Extract author name if available\n",
    "                author = json_content.get('author', [])\n",
    "                \n",
    "                article_section = json_content.get('articleSection')\n",
    "                if author:\n",
    "                    author_name = author[0].get('name')\n",
    "                break  # Exit loop after finding the desired data\n",
    "        except json.JSONDecodeError:\n",
    "            # If the content is not valid JSON, continue with the next script\n",
    "            continue\n",
    "    \n",
    "    try:\n",
    "        kommentare = soup.find('div', attrs={'id': 'commentSection'})\n",
    "        kommentare = kommentare.find('div', attrs={'class': 'sc-5494f02e-0 gWnvCT'})\n",
    "        kommentare = kommentare.get_text()\n",
    "        n_kommentare = kommentare.split()[0]\n",
    "    except Exception as e:\n",
    "        n_kommentare = None\n",
    "    print(f'{title}; Kommentare: {n_kommentare}; Date Published: {date_published}; Author Name: {author_name}; Article Section: {article_section} \\n')\n",
    "    # add the extracted data to the DataFrame\n",
    "    new_row = pd.DataFrame({'title': title, 'n_kommentare': n_kommentare, 'date_published': date_published, 'author_name': author_name, 'article_section': article_section}, index=[0])\n",
    "    df_features = pd.concat([df_features, new_row], ignore_index=True)\n",
    "    "
   ],
   "metadata": {
    "collapsed": false,
    "ExecuteTime": {
     "end_time": "2024-08-16T06:15:07.266256300Z",
     "start_time": "2024-08-16T06:14:59.911641400Z"
    }
   },
   "id": "31ed1907c5f67e7",
   "execution_count": 8
  },
  {
   "cell_type": "code",
   "outputs": [
    {
     "data": {
      "text/plain": "<Figure size 640x480 with 1 Axes>",
      "image/png": "[encoded data removed]"
     },
     "metadata": {},
     "output_type": "display_data"
    }
   ],
   "source": [
    "import matplotlib.pyplot as plt\n",
    "\n",
    "df_features['n_kommentare'] = df_features['n_kommentare'].astype(float)\n",
    "df_features['date_published'] = pd.to_datetime(df_features['date_published'])\n",
    "\n",
    "plt.hist(df_features['n_kommentare'], bins=20)\n",
    "plt.xlabel('Number of Comments')\n",
    "plt.ylabel('Frequency')\n",
    "plt.title('Distribution of Number of Comments')\n",
    "plt.show()"
   ],
   "metadata": {
    "collapsed": false,
    "ExecuteTime": {
     "end_time": "2024-08-16T06:18:08.129640800Z",
     "start_time": "2024-08-16T06:18:07.507524700Z"
    }
   },
   "id": "a76fcdffbdefac26",
   "execution_count": 14
  },
  {
   "cell_type": "code",
   "outputs": [
    {
     "ename": "TypeError",
     "evalue": "'value' must be an instance of str or bytes, not a None",
     "output_type": "error",
     "traceback": [
      "\u001B[0;31m---------------------------------------------------------------------------\u001B[0m",
      "\u001B[0;31mTypeError\u001B[0m                                 Traceback (most recent call last)",
      "Cell \u001B[0;32mIn[21], line 1\u001B[0m\n\u001B[0;32m----> 1\u001B[0m \u001B[43mplt\u001B[49m\u001B[38;5;241;43m.\u001B[39;49m\u001B[43mbar\u001B[49m\u001B[43m(\u001B[49m\u001B[43mdf_features\u001B[49m\u001B[43m[\u001B[49m\u001B[38;5;124;43m'\u001B[39;49m\u001B[38;5;124;43marticle_section\u001B[39;49m\u001B[38;5;124;43m'\u001B[39;49m\u001B[43m]\u001B[49m\u001B[43m,\u001B[49m\u001B[43m \u001B[49m\u001B[43mdf_features\u001B[49m\u001B[43m[\u001B[49m\u001B[38;5;124;43m'\u001B[39;49m\u001B[38;5;124;43mauthor_name\u001B[39;49m\u001B[38;5;124;43m'\u001B[39;49m\u001B[43m]\u001B[49m\u001B[38;5;241;43m.\u001B[39;49m\u001B[43mcount\u001B[49m\u001B[43m(\u001B[49m\u001B[43m)\u001B[49m\u001B[43m)\u001B[49m\n",
      "File \u001B[0;32m~/.virtualenvs/raspberrypi_projects/lib/python3.9/site-packages/matplotlib/pyplot.py:2956\u001B[0m, in \u001B[0;36mbar\u001B[0;34m(x, height, width, bottom, align, data, **kwargs)\u001B[0m\n\u001B[1;32m   2945\u001B[0m \u001B[38;5;129m@_copy_docstring_and_deprecators\u001B[39m(Axes\u001B[38;5;241m.\u001B[39mbar)\n\u001B[1;32m   2946\u001B[0m \u001B[38;5;28;01mdef\u001B[39;00m \u001B[38;5;21mbar\u001B[39m(\n\u001B[1;32m   2947\u001B[0m     x: \u001B[38;5;28mfloat\u001B[39m \u001B[38;5;241m|\u001B[39m ArrayLike,\n\u001B[0;32m   (...)\u001B[0m\n\u001B[1;32m   2954\u001B[0m     \u001B[38;5;241m*\u001B[39m\u001B[38;5;241m*\u001B[39mkwargs,\n\u001B[1;32m   2955\u001B[0m ) \u001B[38;5;241m-\u001B[39m\u001B[38;5;241m>\u001B[39m BarContainer:\n\u001B[0;32m-> 2956\u001B[0m     \u001B[38;5;28;01mreturn\u001B[39;00m \u001B[43mgca\u001B[49m\u001B[43m(\u001B[49m\u001B[43m)\u001B[49m\u001B[38;5;241;43m.\u001B[39;49m\u001B[43mbar\u001B[49m\u001B[43m(\u001B[49m\n\u001B[1;32m   2957\u001B[0m \u001B[43m        \u001B[49m\u001B[43mx\u001B[49m\u001B[43m,\u001B[49m\n\u001B[1;32m   2958\u001B[0m \u001B[43m        \u001B[49m\u001B[43mheight\u001B[49m\u001B[43m,\u001B[49m\n\u001B[1;32m   2959\u001B[0m \u001B[43m        \u001B[49m\u001B[43mwidth\u001B[49m\u001B[38;5;241;43m=\u001B[39;49m\u001B[43mwidth\u001B[49m\u001B[43m,\u001B[49m\n\u001B[1;32m   2960\u001B[0m \u001B[43m        \u001B[49m\u001B[43mbottom\u001B[49m\u001B[38;5;241;43m=\u001B[39;49m\u001B[43mbottom\u001B[49m\u001B[43m,\u001B[49m\n\u001B[1;32m   2961\u001B[0m \u001B[43m        \u001B[49m\u001B[43malign\u001B[49m\u001B[38;5;241;43m=\u001B[39;49m\u001B[43malign\u001B[49m\u001B[43m,\u001B[49m\n\u001B[1;32m   2962\u001B[0m \u001B[43m        \u001B[49m\u001B[38;5;241;43m*\u001B[39;49m\u001B[38;5;241;43m*\u001B[39;49m\u001B[43m(\u001B[49m\u001B[43m{\u001B[49m\u001B[38;5;124;43m\"\u001B[39;49m\u001B[38;5;124;43mdata\u001B[39;49m\u001B[38;5;124;43m\"\u001B[39;49m\u001B[43m:\u001B[49m\u001B[43m \u001B[49m\u001B[43mdata\u001B[49m\u001B[43m}\u001B[49m\u001B[43m \u001B[49m\u001B[38;5;28;43;01mif\u001B[39;49;00m\u001B[43m \u001B[49m\u001B[43mdata\u001B[49m\u001B[43m \u001B[49m\u001B[38;5;129;43;01mis\u001B[39;49;00m\u001B[43m \u001B[49m\u001B[38;5;129;43;01mnot\u001B[39;49;00m\u001B[43m \u001B[49m\u001B[38;5;28;43;01mNone\u001B[39;49;00m\u001B[43m \u001B[49m\u001B[38;5;28;43;01melse\u001B[39;49;00m\u001B[43m \u001B[49m\u001B[43m{\u001B[49m\u001B[43m}\u001B[49m\u001B[43m)\u001B[49m\u001B[43m,\u001B[49m\n\u001B[1;32m   2963\u001B[0m \u001B[43m        \u001B[49m\u001B[38;5;241;43m*\u001B[39;49m\u001B[38;5;241;43m*\u001B[39;49m\u001B[43mkwargs\u001B[49m\u001B[43m,\u001B[49m\n\u001B[1;32m   2964\u001B[0m \u001B[43m    \u001B[49m\u001B[43m)\u001B[49m\n",
      "File \u001B[0;32m~/.virtualenvs/raspberrypi_projects/lib/python3.9/site-packages/matplotlib/__init__.py:1473\u001B[0m, in \u001B[0;36m_preprocess_data.<locals>.inner\u001B[0;34m(ax, data, *args, **kwargs)\u001B[0m\n\u001B[1;32m   1470\u001B[0m \u001B[38;5;129m@functools\u001B[39m\u001B[38;5;241m.\u001B[39mwraps(func)\n\u001B[1;32m   1471\u001B[0m \u001B[38;5;28;01mdef\u001B[39;00m \u001B[38;5;21minner\u001B[39m(ax, \u001B[38;5;241m*\u001B[39margs, data\u001B[38;5;241m=\u001B[39m\u001B[38;5;28;01mNone\u001B[39;00m, \u001B[38;5;241m*\u001B[39m\u001B[38;5;241m*\u001B[39mkwargs):\n\u001B[1;32m   1472\u001B[0m     \u001B[38;5;28;01mif\u001B[39;00m data \u001B[38;5;129;01mis\u001B[39;00m \u001B[38;5;28;01mNone\u001B[39;00m:\n\u001B[0;32m-> 1473\u001B[0m         \u001B[38;5;28;01mreturn\u001B[39;00m \u001B[43mfunc\u001B[49m\u001B[43m(\u001B[49m\n\u001B[1;32m   1474\u001B[0m \u001B[43m            \u001B[49m\u001B[43max\u001B[49m\u001B[43m,\u001B[49m\n\u001B[1;32m   1475\u001B[0m \u001B[43m            \u001B[49m\u001B[38;5;241;43m*\u001B[39;49m\u001B[38;5;28;43mmap\u001B[39;49m\u001B[43m(\u001B[49m\u001B[43msanitize_sequence\u001B[49m\u001B[43m,\u001B[49m\u001B[43m \u001B[49m\u001B[43margs\u001B[49m\u001B[43m)\u001B[49m\u001B[43m,\u001B[49m\n\u001B[1;32m   1476\u001B[0m \u001B[43m            \u001B[49m\u001B[38;5;241;43m*\u001B[39;49m\u001B[38;5;241;43m*\u001B[39;49m\u001B[43m{\u001B[49m\u001B[43mk\u001B[49m\u001B[43m:\u001B[49m\u001B[43m \u001B[49m\u001B[43msanitize_sequence\u001B[49m\u001B[43m(\u001B[49m\u001B[43mv\u001B[49m\u001B[43m)\u001B[49m\u001B[43m \u001B[49m\u001B[38;5;28;43;01mfor\u001B[39;49;00m\u001B[43m \u001B[49m\u001B[43mk\u001B[49m\u001B[43m,\u001B[49m\u001B[43m \u001B[49m\u001B[43mv\u001B[49m\u001B[43m \u001B[49m\u001B[38;5;129;43;01min\u001B[39;49;00m\u001B[43m \u001B[49m\u001B[43mkwargs\u001B[49m\u001B[38;5;241;43m.\u001B[39;49m\u001B[43mitems\u001B[49m\u001B[43m(\u001B[49m\u001B[43m)\u001B[49m\u001B[43m}\u001B[49m\u001B[43m)\u001B[49m\n\u001B[1;32m   1478\u001B[0m     bound \u001B[38;5;241m=\u001B[39m new_sig\u001B[38;5;241m.\u001B[39mbind(ax, \u001B[38;5;241m*\u001B[39margs, \u001B[38;5;241m*\u001B[39m\u001B[38;5;241m*\u001B[39mkwargs)\n\u001B[1;32m   1479\u001B[0m     auto_label \u001B[38;5;241m=\u001B[39m (bound\u001B[38;5;241m.\u001B[39marguments\u001B[38;5;241m.\u001B[39mget(label_namer)\n\u001B[1;32m   1480\u001B[0m                   \u001B[38;5;129;01mor\u001B[39;00m bound\u001B[38;5;241m.\u001B[39mkwargs\u001B[38;5;241m.\u001B[39mget(label_namer))\n",
      "File \u001B[0;32m~/.virtualenvs/raspberrypi_projects/lib/python3.9/site-packages/matplotlib/axes/_axes.py:2492\u001B[0m, in \u001B[0;36mAxes.bar\u001B[0;34m(self, x, height, width, bottom, align, **kwargs)\u001B[0m\n\u001B[1;32m   2486\u001B[0m         x \u001B[38;5;241m=\u001B[39m \u001B[38;5;241m0\u001B[39m\n\u001B[1;32m   2488\u001B[0m \u001B[38;5;28;01mif\u001B[39;00m orientation \u001B[38;5;241m==\u001B[39m \u001B[38;5;124m'\u001B[39m\u001B[38;5;124mvertical\u001B[39m\u001B[38;5;124m'\u001B[39m:\n\u001B[1;32m   2489\u001B[0m     \u001B[38;5;66;03m# It is possible for y (bottom) to contain unit information.\u001B[39;00m\n\u001B[1;32m   2490\u001B[0m     \u001B[38;5;66;03m# However, it is also possible for y=0 for the default and height\u001B[39;00m\n\u001B[1;32m   2491\u001B[0m     \u001B[38;5;66;03m# to contain unit information.  This will prioritize the units of y.\u001B[39;00m\n\u001B[0;32m-> 2492\u001B[0m     \u001B[38;5;28;43mself\u001B[39;49m\u001B[38;5;241;43m.\u001B[39;49m\u001B[43m_process_unit_info\u001B[49m\u001B[43m(\u001B[49m\n\u001B[1;32m   2493\u001B[0m \u001B[43m        \u001B[49m\u001B[43m[\u001B[49m\u001B[43m(\u001B[49m\u001B[38;5;124;43m\"\u001B[39;49m\u001B[38;5;124;43mx\u001B[39;49m\u001B[38;5;124;43m\"\u001B[39;49m\u001B[43m,\u001B[49m\u001B[43m \u001B[49m\u001B[43mx\u001B[49m\u001B[43m)\u001B[49m\u001B[43m,\u001B[49m\u001B[43m \u001B[49m\u001B[43m(\u001B[49m\u001B[38;5;124;43m\"\u001B[39;49m\u001B[38;5;124;43my\u001B[39;49m\u001B[38;5;124;43m\"\u001B[39;49m\u001B[43m,\u001B[49m\u001B[43m \u001B[49m\u001B[43my\u001B[49m\u001B[43m)\u001B[49m\u001B[43m,\u001B[49m\u001B[43m \u001B[49m\u001B[43m(\u001B[49m\u001B[38;5;124;43m\"\u001B[39;49m\u001B[38;5;124;43my\u001B[39;49m\u001B[38;5;124;43m\"\u001B[39;49m\u001B[43m,\u001B[49m\u001B[43m \u001B[49m\u001B[43mheight\u001B[49m\u001B[43m)\u001B[49m\u001B[43m]\u001B[49m\u001B[43m,\u001B[49m\u001B[43m \u001B[49m\u001B[43mkwargs\u001B[49m\u001B[43m,\u001B[49m\u001B[43m \u001B[49m\u001B[43mconvert\u001B[49m\u001B[38;5;241;43m=\u001B[39;49m\u001B[38;5;28;43;01mFalse\u001B[39;49;00m\u001B[43m)\u001B[49m\n\u001B[1;32m   2494\u001B[0m     \u001B[38;5;28;01mif\u001B[39;00m log:\n\u001B[1;32m   2495\u001B[0m         \u001B[38;5;28mself\u001B[39m\u001B[38;5;241m.\u001B[39mset_yscale(\u001B[38;5;124m'\u001B[39m\u001B[38;5;124mlog\u001B[39m\u001B[38;5;124m'\u001B[39m, nonpositive\u001B[38;5;241m=\u001B[39m\u001B[38;5;124m'\u001B[39m\u001B[38;5;124mclip\u001B[39m\u001B[38;5;124m'\u001B[39m)\n",
      "File \u001B[0;32m~/.virtualenvs/raspberrypi_projects/lib/python3.9/site-packages/matplotlib/axes/_base.py:2585\u001B[0m, in \u001B[0;36m_AxesBase._process_unit_info\u001B[0;34m(self, datasets, kwargs, convert)\u001B[0m\n\u001B[1;32m   2583\u001B[0m     \u001B[38;5;66;03m# Update from data if axis is already set but no unit is set yet.\u001B[39;00m\n\u001B[1;32m   2584\u001B[0m     \u001B[38;5;28;01mif\u001B[39;00m axis \u001B[38;5;129;01mis\u001B[39;00m \u001B[38;5;129;01mnot\u001B[39;00m \u001B[38;5;28;01mNone\u001B[39;00m \u001B[38;5;129;01mand\u001B[39;00m data \u001B[38;5;129;01mis\u001B[39;00m \u001B[38;5;129;01mnot\u001B[39;00m \u001B[38;5;28;01mNone\u001B[39;00m \u001B[38;5;129;01mand\u001B[39;00m \u001B[38;5;129;01mnot\u001B[39;00m axis\u001B[38;5;241m.\u001B[39mhave_units():\n\u001B[0;32m-> 2585\u001B[0m         \u001B[43maxis\u001B[49m\u001B[38;5;241;43m.\u001B[39;49m\u001B[43mupdate_units\u001B[49m\u001B[43m(\u001B[49m\u001B[43mdata\u001B[49m\u001B[43m)\u001B[49m\n\u001B[1;32m   2586\u001B[0m \u001B[38;5;28;01mfor\u001B[39;00m axis_name, axis \u001B[38;5;129;01min\u001B[39;00m axis_map\u001B[38;5;241m.\u001B[39mitems():\n\u001B[1;32m   2587\u001B[0m     \u001B[38;5;66;03m# Return if no axis is set.\u001B[39;00m\n\u001B[1;32m   2588\u001B[0m     \u001B[38;5;28;01mif\u001B[39;00m axis \u001B[38;5;129;01mis\u001B[39;00m \u001B[38;5;28;01mNone\u001B[39;00m:\n",
      "File \u001B[0;32m~/.virtualenvs/raspberrypi_projects/lib/python3.9/site-packages/matplotlib/axis.py:1756\u001B[0m, in \u001B[0;36mAxis.update_units\u001B[0;34m(self, data)\u001B[0m\n\u001B[1;32m   1754\u001B[0m neednew \u001B[38;5;241m=\u001B[39m \u001B[38;5;28mself\u001B[39m\u001B[38;5;241m.\u001B[39mconverter \u001B[38;5;241m!=\u001B[39m converter\n\u001B[1;32m   1755\u001B[0m \u001B[38;5;28mself\u001B[39m\u001B[38;5;241m.\u001B[39mconverter \u001B[38;5;241m=\u001B[39m converter\n\u001B[0;32m-> 1756\u001B[0m default \u001B[38;5;241m=\u001B[39m \u001B[38;5;28;43mself\u001B[39;49m\u001B[38;5;241;43m.\u001B[39;49m\u001B[43mconverter\u001B[49m\u001B[38;5;241;43m.\u001B[39;49m\u001B[43mdefault_units\u001B[49m\u001B[43m(\u001B[49m\u001B[43mdata\u001B[49m\u001B[43m,\u001B[49m\u001B[43m \u001B[49m\u001B[38;5;28;43mself\u001B[39;49m\u001B[43m)\u001B[49m\n\u001B[1;32m   1757\u001B[0m \u001B[38;5;28;01mif\u001B[39;00m default \u001B[38;5;129;01mis\u001B[39;00m \u001B[38;5;129;01mnot\u001B[39;00m \u001B[38;5;28;01mNone\u001B[39;00m \u001B[38;5;129;01mand\u001B[39;00m \u001B[38;5;28mself\u001B[39m\u001B[38;5;241m.\u001B[39munits \u001B[38;5;129;01mis\u001B[39;00m \u001B[38;5;28;01mNone\u001B[39;00m:\n\u001B[1;32m   1758\u001B[0m     \u001B[38;5;28mself\u001B[39m\u001B[38;5;241m.\u001B[39mset_units(default)\n",
      "File \u001B[0;32m~/.virtualenvs/raspberrypi_projects/lib/python3.9/site-packages/matplotlib/category.py:105\u001B[0m, in \u001B[0;36mStrCategoryConverter.default_units\u001B[0;34m(data, axis)\u001B[0m\n\u001B[1;32m    103\u001B[0m \u001B[38;5;66;03m# the conversion call stack is default_units -> axis_info -> convert\u001B[39;00m\n\u001B[1;32m    104\u001B[0m \u001B[38;5;28;01mif\u001B[39;00m axis\u001B[38;5;241m.\u001B[39munits \u001B[38;5;129;01mis\u001B[39;00m \u001B[38;5;28;01mNone\u001B[39;00m:\n\u001B[0;32m--> 105\u001B[0m     axis\u001B[38;5;241m.\u001B[39mset_units(\u001B[43mUnitData\u001B[49m\u001B[43m(\u001B[49m\u001B[43mdata\u001B[49m\u001B[43m)\u001B[49m)\n\u001B[1;32m    106\u001B[0m \u001B[38;5;28;01melse\u001B[39;00m:\n\u001B[1;32m    107\u001B[0m     axis\u001B[38;5;241m.\u001B[39munits\u001B[38;5;241m.\u001B[39mupdate(data)\n",
      "File \u001B[0;32m~/.virtualenvs/raspberrypi_projects/lib/python3.9/site-packages/matplotlib/category.py:181\u001B[0m, in \u001B[0;36mUnitData.__init__\u001B[0;34m(self, data)\u001B[0m\n\u001B[1;32m    179\u001B[0m \u001B[38;5;28mself\u001B[39m\u001B[38;5;241m.\u001B[39m_counter \u001B[38;5;241m=\u001B[39m itertools\u001B[38;5;241m.\u001B[39mcount()\n\u001B[1;32m    180\u001B[0m \u001B[38;5;28;01mif\u001B[39;00m data \u001B[38;5;129;01mis\u001B[39;00m \u001B[38;5;129;01mnot\u001B[39;00m \u001B[38;5;28;01mNone\u001B[39;00m:\n\u001B[0;32m--> 181\u001B[0m     \u001B[38;5;28;43mself\u001B[39;49m\u001B[38;5;241;43m.\u001B[39;49m\u001B[43mupdate\u001B[49m\u001B[43m(\u001B[49m\u001B[43mdata\u001B[49m\u001B[43m)\u001B[49m\n",
      "File \u001B[0;32m~/.virtualenvs/raspberrypi_projects/lib/python3.9/site-packages/matplotlib/category.py:216\u001B[0m, in \u001B[0;36mUnitData.update\u001B[0;34m(self, data)\u001B[0m\n\u001B[1;32m    213\u001B[0m convertible \u001B[38;5;241m=\u001B[39m \u001B[38;5;28;01mTrue\u001B[39;00m\n\u001B[1;32m    214\u001B[0m \u001B[38;5;28;01mfor\u001B[39;00m val \u001B[38;5;129;01min\u001B[39;00m OrderedDict\u001B[38;5;241m.\u001B[39mfromkeys(data):\n\u001B[1;32m    215\u001B[0m     \u001B[38;5;66;03m# OrderedDict just iterates over unique values in data.\u001B[39;00m\n\u001B[0;32m--> 216\u001B[0m     \u001B[43m_api\u001B[49m\u001B[38;5;241;43m.\u001B[39;49m\u001B[43mcheck_isinstance\u001B[49m\u001B[43m(\u001B[49m\u001B[43m(\u001B[49m\u001B[38;5;28;43mstr\u001B[39;49m\u001B[43m,\u001B[49m\u001B[43m \u001B[49m\u001B[38;5;28;43mbytes\u001B[39;49m\u001B[43m)\u001B[49m\u001B[43m,\u001B[49m\u001B[43m \u001B[49m\u001B[43mvalue\u001B[49m\u001B[38;5;241;43m=\u001B[39;49m\u001B[43mval\u001B[49m\u001B[43m)\u001B[49m\n\u001B[1;32m    217\u001B[0m     \u001B[38;5;28;01mif\u001B[39;00m convertible:\n\u001B[1;32m    218\u001B[0m         \u001B[38;5;66;03m# this will only be called so long as convertible is True.\u001B[39;00m\n\u001B[1;32m    219\u001B[0m         convertible \u001B[38;5;241m=\u001B[39m \u001B[38;5;28mself\u001B[39m\u001B[38;5;241m.\u001B[39m_str_is_convertible(val)\n",
      "File \u001B[0;32m~/.virtualenvs/raspberrypi_projects/lib/python3.9/site-packages/matplotlib/_api/__init__.py:91\u001B[0m, in \u001B[0;36mcheck_isinstance\u001B[0;34m(types, **kwargs)\u001B[0m\n\u001B[1;32m     89\u001B[0m     names\u001B[38;5;241m.\u001B[39mremove(\u001B[38;5;124m\"\u001B[39m\u001B[38;5;124mNone\u001B[39m\u001B[38;5;124m\"\u001B[39m)\n\u001B[1;32m     90\u001B[0m     names\u001B[38;5;241m.\u001B[39mappend(\u001B[38;5;124m\"\u001B[39m\u001B[38;5;124mNone\u001B[39m\u001B[38;5;124m\"\u001B[39m)\n\u001B[0;32m---> 91\u001B[0m \u001B[38;5;28;01mraise\u001B[39;00m \u001B[38;5;167;01mTypeError\u001B[39;00m(\n\u001B[1;32m     92\u001B[0m     \u001B[38;5;124m\"\u001B[39m\u001B[38;5;132;01m{!r}\u001B[39;00m\u001B[38;5;124m must be an instance of \u001B[39m\u001B[38;5;132;01m{}\u001B[39;00m\u001B[38;5;124m, not a \u001B[39m\u001B[38;5;132;01m{}\u001B[39;00m\u001B[38;5;124m\"\u001B[39m\u001B[38;5;241m.\u001B[39mformat(\n\u001B[1;32m     93\u001B[0m         k,\n\u001B[1;32m     94\u001B[0m         \u001B[38;5;124m\"\u001B[39m\u001B[38;5;124m, \u001B[39m\u001B[38;5;124m\"\u001B[39m\u001B[38;5;241m.\u001B[39mjoin(names[:\u001B[38;5;241m-\u001B[39m\u001B[38;5;241m1\u001B[39m]) \u001B[38;5;241m+\u001B[39m \u001B[38;5;124m\"\u001B[39m\u001B[38;5;124m or \u001B[39m\u001B[38;5;124m\"\u001B[39m \u001B[38;5;241m+\u001B[39m names[\u001B[38;5;241m-\u001B[39m\u001B[38;5;241m1\u001B[39m]\n\u001B[1;32m     95\u001B[0m         \u001B[38;5;28;01mif\u001B[39;00m \u001B[38;5;28mlen\u001B[39m(names) \u001B[38;5;241m>\u001B[39m \u001B[38;5;241m1\u001B[39m \u001B[38;5;28;01melse\u001B[39;00m names[\u001B[38;5;241m0\u001B[39m],\n\u001B[1;32m     96\u001B[0m         type_name(\u001B[38;5;28mtype\u001B[39m(v))))\n",
      "\u001B[0;31mTypeError\u001B[0m: 'value' must be an instance of str or bytes, not a None"
     ]
    },
    {
     "data": {
      "text/plain": "<Figure size 640x480 with 1 Axes>",
      "image/png": "[encoded data removed]"
     },
     "metadata": {},
     "output_type": "display_data"
    }
   ],
   "source": [
    "# Count the number of articles per author\n",
    "df_features['author_name'].value_counts()\n",
    "\n"
   ],
   "metadata": {
    "collapsed": false,
    "ExecuteTime": {
     "end_time": "2024-08-16T06:23:58.433048300Z",
     "start_time": "2024-08-16T06:23:57.678630900Z"
    }
   },
   "id": "55ef9ef111cb224c",
   "execution_count": 21
  },
  {
   "cell_type": "code",
   "outputs": [],
   "source": [],
   "metadata": {
    "collapsed": false
   },
   "id": "1a20d2c2a04809f6"
  }
 ],
 "metadata": {
  "kernelspec": {
   "display_name": "Python 3",
   "language": "python",
   "name": "python3"
  },
  "language_info": {
   "codemirror_mode": {
    "name": "ipython",
    "version": 2
   },
   "file_extension": ".py",
   "mimetype": "text/x-python",
   "name": "python",
   "nbconvert_exporter": "python",
   "pygments_lexer": "ipython2",
   "version": "2.7.6"
  }
 },
 "nbformat": 4,
 "nbformat_minor": 5
}
